{
 "cells": [
  {
   "cell_type": "code",
   "execution_count": 1,
   "id": "c6f5e918-a934-4a85-a0d0-091b4aa1da99",
   "metadata": {},
   "outputs": [],
   "source": [
    "from ucimlrepo import fetch_ucirepo "
   ]
  },
  {
   "cell_type": "code",
   "execution_count": 90,
   "id": "8136d1c2-ea75-4807-9310-39bcfef9e45f",
   "metadata": {},
   "outputs": [
    {
     "name": "stdout",
     "output_type": "stream",
     "text": [
      "    school sex  age  studytime  absences  traveltime  G1  G2  G3\n",
      "332     GP   F   18          3         0           1  18  18  18\n",
      "29      GP   M   16          2         4           1  12  11  12\n",
      "302     GP   M   18          3         2           1  10  11  12\n",
      "286     GP   M   17          1         0           1  12  12  13\n",
      "554     MS   F   17          1         3           2  10  11  10\n"
     ]
    }
   ],
   "source": [
    "import pandas as pd\n",
    "from sklearn.model_selection import train_test_split\n",
    "student_performance = fetch_ucirepo(id=320)\n",
    "data = pd.DataFrame(student_performance.data.original,\n",
    "                          columns=student_performance.data.headers)\n",
    "attribute = ['school','sex','age','studytime','absences','traveltime',\"G1\",\"G2\",\"G3\"]\n",
    "data = data[attribute]\n",
    "student_df, test = train_test_split(data,test_size=0.2,random_state=42)\n",
    "print(student_df.head())"
   ]
  },
  {
   "cell_type": "code",
   "execution_count": 91,
   "id": "3b275c4c",
   "metadata": {},
   "outputs": [],
   "source": [
    "import numpy as np\n",
    "from sklearn.base import BaseEstimator,TransformerMixin\n",
    "\n",
    "# sex_index = 1\n",
    "\n",
    "class TransformSexInteger(BaseEstimator,TransformerMixin):\n",
    "    def __init__(self):\n",
    "        print(\"hello\")\n",
    "    def fit(self, X,y=None):\n",
    "        return self\n",
    "\n",
    "    def transform(self,X,y=None):\n",
    "        X['sex'] = np.array([1 if i == \"M\" else 0 for i in X['sex']])\n",
    "        return X\n",
    "\n",
    "\n",
    "\n",
    "# sex_transformer = TransformSexInteger()\n",
    "# sex_transformer.transform(student_df)\n"
   ]
  },
  {
   "cell_type": "code",
   "execution_count": 106,
   "id": "42a1e1a0",
   "metadata": {},
   "outputs": [
    {
     "name": "stdout",
     "output_type": "stream",
     "text": [
      "[array(['GP', 'MS'], dtype=object)]\n",
      "  (np.int32(0), np.int32(0))\t1.0\n",
      "  (np.int32(1), np.int32(0))\t1.0\n",
      "  (np.int32(2), np.int32(0))\t1.0\n",
      "  (np.int32(3), np.int32(0))\t1.0\n",
      "  (np.int32(4), np.int32(1))\t1.0\n",
      "  (np.int32(5), np.int32(0))\t1.0\n",
      "  (np.int32(6), np.int32(1))\t1.0\n",
      "  (np.int32(7), np.int32(1))\t1.0\n",
      "  (np.int32(8), np.int32(1))\t1.0\n",
      "  (np.int32(9), np.int32(0))\t1.0\n",
      "  (np.int32(10), np.int32(0))\t1.0\n",
      "  (np.int32(11), np.int32(0))\t1.0\n",
      "  (np.int32(12), np.int32(0))\t1.0\n",
      "  (np.int32(13), np.int32(0))\t1.0\n",
      "  (np.int32(14), np.int32(1))\t1.0\n",
      "  (np.int32(15), np.int32(1))\t1.0\n",
      "  (np.int32(16), np.int32(0))\t1.0\n",
      "  (np.int32(17), np.int32(0))\t1.0\n",
      "  (np.int32(18), np.int32(0))\t1.0\n",
      "  (np.int32(19), np.int32(1))\t1.0\n",
      "  (np.int32(20), np.int32(0))\t1.0\n",
      "  (np.int32(21), np.int32(0))\t1.0\n",
      "  (np.int32(22), np.int32(0))\t1.0\n",
      "  (np.int32(23), np.int32(0))\t1.0\n",
      "  (np.int32(24), np.int32(0))\t1.0\n",
      "  :\t:\n",
      "  (np.int32(494), np.int32(1))\t1.0\n",
      "  (np.int32(495), np.int32(0))\t1.0\n",
      "  (np.int32(496), np.int32(0))\t1.0\n",
      "  (np.int32(497), np.int32(0))\t1.0\n",
      "  (np.int32(498), np.int32(0))\t1.0\n",
      "  (np.int32(499), np.int32(0))\t1.0\n",
      "  (np.int32(500), np.int32(1))\t1.0\n",
      "  (np.int32(501), np.int32(0))\t1.0\n",
      "  (np.int32(502), np.int32(0))\t1.0\n",
      "  (np.int32(503), np.int32(0))\t1.0\n",
      "  (np.int32(504), np.int32(0))\t1.0\n",
      "  (np.int32(505), np.int32(0))\t1.0\n",
      "  (np.int32(506), np.int32(0))\t1.0\n",
      "  (np.int32(507), np.int32(1))\t1.0\n",
      "  (np.int32(508), np.int32(0))\t1.0\n",
      "  (np.int32(509), np.int32(0))\t1.0\n",
      "  (np.int32(510), np.int32(1))\t1.0\n",
      "  (np.int32(511), np.int32(0))\t1.0\n",
      "  (np.int32(512), np.int32(1))\t1.0\n",
      "  (np.int32(513), np.int32(0))\t1.0\n",
      "  (np.int32(514), np.int32(0))\t1.0\n",
      "  (np.int32(515), np.int32(0))\t1.0\n",
      "  (np.int32(516), np.int32(0))\t1.0\n",
      "  (np.int32(517), np.int32(1))\t1.0\n",
      "  (np.int32(518), np.int32(0))\t1.0\n"
     ]
    }
   ],
   "source": [
    "from sklearn.preprocessing import OneHotEncoder\n",
    "\n",
    "\n",
    "cat_encoder = OneHotEncoder()\n",
    "cat_encoded = cat_encoder.fit_transform(student_df[['school']])\n",
    "print(cat_encoder.categories_)\n",
    "print(cat_encoded)\n"
   ]
  },
  {
   "cell_type": "code",
   "execution_count": 121,
   "id": "83f53f04",
   "metadata": {},
   "outputs": [
    {
     "name": "stdout",
     "output_type": "stream",
     "text": [
      "hello\n",
      "hello\n",
      "[[ 0. 18.  3. ... 18.  1.  0.]\n",
      " [ 1. 16.  2. ... 11.  1.  0.]\n",
      " [ 1. 18.  3. ... 11.  1.  0.]\n",
      " ...\n",
      " [ 1. 16.  1. ... 15.  1.  0.]\n",
      " [ 0. 15.  2. ... 10.  0.  1.]\n",
      " [ 1. 15.  1. ... 13.  1.  0.]]     school sex  age  studytime  absences  traveltime  G1  G2\n",
      "332     GP   F   18          3         0           1  18  18\n",
      "29      GP   M   16          2         4           1  12  11\n",
      "302     GP   M   18          3         2           1  10  11\n",
      "286     GP   M   17          1         0           1  12  12\n",
      "554     MS   F   17          1         3           2  10  11\n",
      "..     ...  ..  ...        ...       ...         ...  ..  ..\n",
      "71      GP   M   15          4         0           1  11   9\n",
      "106     GP   F   15          4         4           1  10  10\n",
      "270     GP   M   16          1         4           1  14  15\n",
      "435     MS   F   15          2         0           2  10  10\n",
      "102     GP   M   15          1         2           1  12  13\n",
      "\n",
      "[519 rows x 8 columns]\n"
     ]
    }
   ],
   "source": [
    "from sklearn.pipeline import Pipeline\n",
    "from sklearn.compose import ColumnTransformer\n",
    "\n",
    "num_pipeline = Pipeline([\n",
    "    ('sex_transformer',TransformSexInteger())\n",
    "])\n",
    "\n",
    "# attribute.remove('G3')\n",
    "\n",
    "student_d = pd.DataFrame(\n",
    "    {\n",
    "        \"school\": [\"GP\", \"MS\", \"GP\", \"GP\"],\n",
    "        \"sex\": [\"M\", \"F\", \"M\", \"F\"],\n",
    "        \"age\": [18, 17, 18, 17],\n",
    "        \"G3\": [15, 14, 13, 12],\n",
    "    }\n",
    ")\n",
    "cat_attribute = [\"school\"]\n",
    "attribute.remove('school')\n",
    "\n",
    "cat_pipeline = Pipeline([\n",
    "    ('cat',OneHotEncoder()),\n",
    "])\n",
    "\n",
    "full_pipeline = ColumnTransformer([\n",
    "    (\"num\",num_pipeline,attribute),\n",
    "    ('cat',cat_pipeline,cat_attribute),\n",
    "])\n",
    "\n",
    "train_x = student_df.drop('G3',axis=1)\n",
    "train_y = student_df['G3'].copy()\n",
    "prepared_data = full_pipeline.fit_transform(train_x)\n",
    "print(prepared_data,train_x)"
   ]
  },
  {
   "cell_type": "code",
   "execution_count": 126,
   "id": "56b2072b",
   "metadata": {},
   "outputs": [
    {
     "name": "stdout",
     "output_type": "stream",
     "text": [
      "[1.14406212 1.1963632  1.58505847 1.89335806 1.54019255 1.0507139\n",
      " 1.29159984 0.85849989 1.1005092  0.82358434]\n"
     ]
    },
    {
     "data": {
      "text/plain": [
       "np.float64(1.2646346105833877)"
      ]
     },
     "execution_count": 126,
     "metadata": {},
     "output_type": "execute_result"
    }
   ],
   "source": [
    "from sklearn.linear_model import LinearRegression\n",
    "from sklearn.metrics import root_mean_squared_error\n",
    "from sklearn.model_selection import cross_val_score\n",
    "\n",
    "lin_model = LinearRegression()\n",
    "lin_model.fit(prepared_data,train_y)\n",
    "\n",
    "pred_lin = lin_model.predict(prepared_data)\n",
    "\n",
    "scores = cross_val_score(lin_model,prepared_data,train_y,scoring='neg_mean_squared_error',cv=10)\n",
    "\n",
    "scores = np.sqrt(-scores)\n",
    "\n",
    "print(scores)\n",
    "\n",
    "root_mean_squared_error(train_y,pred_lin)\n"
   ]
  }
 ],
 "metadata": {
  "kernelspec": {
   "display_name": "Python 3 (ipykernel)",
   "language": "python",
   "name": "python3"
  },
  "language_info": {
   "codemirror_mode": {
    "name": "ipython",
    "version": 3
   },
   "file_extension": ".py",
   "mimetype": "text/x-python",
   "name": "python",
   "nbconvert_exporter": "python",
   "pygments_lexer": "ipython3",
   "version": "3.10.11"
  }
 },
 "nbformat": 4,
 "nbformat_minor": 5
}
